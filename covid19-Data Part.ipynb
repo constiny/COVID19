{
 "cells": [
  {
   "cell_type": "markdown",
   "metadata": {},
   "source": [
    "---------------\n",
    "# Data acquisition\n",
    "---------------------"
   ]
  },
  {
   "cell_type": "markdown",
   "metadata": {},
   "source": [
    "## Data Source\n",
    "-----------------------------\n",
    "\n",
    "- **Getting CSSE data on github**\n",
    "\n",
    "    source: https://github.com/CSSEGISandData/COVID-19 by Johns Hopkins CSSE\n",
    "\n",
    "\n",
    "- **Gather state testing data thru API**\n",
    "\n",
    "    source: https://covidtracking.com/data \n",
    "    - US Testing in Time Series https://covidtracking.com/api/us/daily.csv\n",
    "    - States Historical Data https://covidtracking.com/api/states/daily.csv\n",
    "\n",
    "\n",
    "- **Webscrap korean testing data**\n",
    "\n",
    "    Source: CDC of South Korean\n",
    "    - sample data https://www.cdc.go.kr/board/board.es?mid=&bid=0030&act=view&list_no=366735\n",
    "    \n",
    "    \n",
    "- **Webscrap LA community level data**\n",
    "\n",
    "    Source: The Department of Public Health of Los Angeles County\n",
    "    - sample data http://publichealth.lacounty.gov/phcommon/public/media/mediapubhpdetail.cfm?prid=2298\n",
    "    \n",
    "---------------------------------"
   ]
  },
  {
   "cell_type": "markdown",
   "metadata": {},
   "source": [
    "## Web scraping\n",
    "-----------\n",
    "**Preparation**"
   ]
  },
  {
   "cell_type": "markdown",
   "metadata": {},
   "source": [
    "Firstly, create a webscrap class including functions for getting tables, get text and get urls. Such class definition is stored as `./src/web_scraping`"
   ]
  },
  {
   "cell_type": "code",
   "execution_count": 10,
   "metadata": {
    "ExecuteTime": {
     "end_time": "2020-04-09T18:19:20.745433Z",
     "start_time": "2020-04-09T18:19:20.742999Z"
    }
   },
   "outputs": [],
   "source": [
    "from src.web_scaping import webscrap\n",
    "import pandas as pd\n",
    "import csv\n",
    "import datetime\n",
    "from src.cleaning_helper import *"
   ]
  },
  {
   "cell_type": "markdown",
   "metadata": {},
   "source": [
    "**Gather data with webscape class**\n",
    "\n",
    "Many experts treated South Korea as a best practice in controlling COVID-19 and an good model to follow. Hence, in this study we will compare COVID-19 data between US and South Korea.\n",
    "\n",
    "Unfortunately, there isn't an existing data source for South Korea testing data for the coronavirus. We utilized web scaping technique to collect data from press release of each day.\n"
   ]
  },
  {
   "cell_type": "code",
   "execution_count": null,
   "metadata": {},
   "outputs": [],
   "source": [
    "# Gather all urls for all korean press releases\n",
    "\n",
    "url_p1 = \"https://www.cdc.go.kr/board.es?mid=&bid=0030&nPage=\"\n",
    "url_p2 = (str(i) for i in list(range(1,25)))\n",
    "\n",
    "url_lst = []\n",
    "\n",
    "for page in url_p2:\n",
    "    nws = webscrap(url_p1 + page)\n",
    "    nws.start(random_headers = True)\n",
    "    url_lst.append(nws.get_urls())\n",
    "\n",
    "with open(\"url_k_t.csv\", \"w\", newline=\"\") as f:\n",
    "    writer = csv.writer(f)\n",
    "    writer.writerows(url_lst2)\n",
    "    "
   ]
  },
  {
   "cell_type": "code",
   "execution_count": null,
   "metadata": {},
   "outputs": [],
   "source": [
    "# Gather Table from each page\n",
    "\n",
    "url_p1 = \"https://www.cdc.go.kr\"\n",
    "out_lst = []\n",
    "\n",
    "for page in urls2:\n",
    "    nws = webscrap(url_p1 + page)\n",
    "    nws.start(random_headers = True)\n",
    "    out_lst.append(nws.get_table())\n",
    "\n",
    "with open(\"South_Korea_History data.csv\", \"w\", newline=\"\") as f:\n",
    "    writer = csv.writer(f)\n",
    "    writer.writerows(out_lst)\n",
    "    "
   ]
  },
  {
   "cell_type": "markdown",
   "metadata": {},
   "source": [
    "Not only the big picture in a country scale that we care, we also wants to provide a LA picture community level data. Similarly, we webscaped community level data from press release from Department of Public Health of Los Angeles County."
   ]
  },
  {
   "cell_type": "code",
   "execution_count": 4,
   "metadata": {
    "ExecuteTime": {
     "end_time": "2020-04-09T18:11:09.604504Z",
     "start_time": "2020-04-09T18:10:59.407330Z"
    }
   },
   "outputs": [],
   "source": [
    "# collect LA data\n",
    "\n",
    "url = \"http://publichealth.lacounty.gov/phcommon/public/media/mediapubhpdetail.cfm?prid=\"\n",
    "url_lst = []\n",
    "for i in list(range(2304,2267,-1)):\n",
    "    url_lst.append(url + str(i))\n",
    "out = []\n",
    "for url in url_lst:\n",
    "    nws = webscrap(url)\n",
    "    nws.start(random_headers = True)\n",
    "    temp_lst = []\n",
    "    text = nws.get_text(elements = [\"ul\", \"li\"])\n",
    "    if text:\n",
    "        temp_lst.append(url[-4:])\n",
    "        temp_lst.append(nws.get_table(index=1)[0][0])\n",
    "        temp_lst.append(text)\n",
    "        out.append(temp_lst)\n",
    "\n",
    "# Save as csv\n",
    "\n",
    "with open(\"LA_backup.csv\", \"w\", newline=\"\") as f:\n",
    "    writer = csv.writer(f)\n",
    "    writer.writerows(out)\n"
   ]
  },
  {
   "cell_type": "markdown",
   "metadata": {},
   "source": [
    "-----------------------------\n",
    "## Data Cleaning\n",
    "--------------------\n",
    "\n",
    "Create a data pipeline to process raw data, since raw data were in different structure. We will process the data in different pipelines.\n",
    "\n",
    "### LA data"
   ]
  },
  {
   "cell_type": "code",
   "execution_count": 6,
   "metadata": {
    "ExecuteTime": {
     "end_time": "2020-04-09T18:17:35.324349Z",
     "start_time": "2020-04-09T18:17:35.224082Z"
    }
   },
   "outputs": [],
   "source": [
    "# data pipeline after Mar 30\n",
    "out2 = []\n",
    "for item in out:\n",
    "    temp_lst = [item[1].split(\"\\r\\n\\t\")[1]]\n",
    "    if len(item[2]) > 0:\n",
    "        temp_lst.append(lacounty_daily_text_2_table(item[2]))\n",
    "    out2.append(temp_lst)"
   ]
  },
  {
   "cell_type": "code",
   "execution_count": null,
   "metadata": {},
   "outputs": [],
   "source": [
    "# data pipeline before mar 29\n",
    "out3 = []\n",
    "for item in out[15:]:\n",
    "    temp_lst = [item[1].split(\"\\r\\n\\t\")[1]]\n",
    "    if len(item[2]) > 0:\n",
    "        temp_lst.append(lacounty_daily_text_2_table2(item[2]))\n",
    "    out3.append(temp_lst)"
   ]
  },
  {
   "cell_type": "code",
   "execution_count": 13,
   "metadata": {
    "ExecuteTime": {
     "end_time": "2020-04-09T18:20:08.950124Z",
     "start_time": "2020-04-09T18:20:08.932158Z"
    }
   },
   "outputs": [],
   "source": [
    "# Since Long Beach and Pasadena have independent public health department, need to get them seperately\n",
    "\n",
    "LB = find_LB_or_PD(out, \"Long Beach\")[:-6]\n",
    "PD = find_LB_or_PD(out, \"Pasadena\")[:-6]\n",
    "NLB = LB[:-5]\n",
    "NLB.extend([[\"city2\",\"Long Beach\"]])\n",
    "NLB.extend(LB[-5:])\n",
    "NPD = PD[:-5]\n",
    "NPD.extend([[\"city2\",\"Pasadena\"]])\n",
    "NPD.extend(PD[-5:])"
   ]
  },
  {
   "cell_type": "code",
   "execution_count": 14,
   "metadata": {
    "ExecuteTime": {
     "end_time": "2020-04-09T18:20:15.750121Z",
     "start_time": "2020-04-09T18:20:15.628945Z"
    }
   },
   "outputs": [],
   "source": [
    "# merge into a pandas format\n",
    "LA_data = {}\n",
    "for i in out2[:15]:\n",
    "    if len(i[1]):\n",
    "        LA_data[i[0]] = i[1]\n",
    "for i in out3:\n",
    "    if len(i[1]):\n",
    "        LA_data[i[0]] = i[1]\n",
    "\n",
    "df = pd.DataFrame(LA_data['April 09, 2020'], columns= [\"city\", 'April 09, 2020'] )\n",
    "df.set_index([\"city\"])\n",
    "\n",
    "for key in LA_data.keys():\n",
    "    df2 = pd.DataFrame(LA_data[key], columns= [\"city\", key])\n",
    "    df2.set_index([\"city\"])\n",
    "    df = pd.merge(df, df2, how='left', left_on=\"city\", right_on=\"city\")"
   ]
  },
  {
   "cell_type": "code",
   "execution_count": 15,
   "metadata": {
    "ExecuteTime": {
     "end_time": "2020-04-09T18:20:16.352685Z",
     "start_time": "2020-04-09T18:20:16.307816Z"
    }
   },
   "outputs": [
    {
     "data": {
      "text/html": [
       "<div>\n",
       "<style scoped>\n",
       "    .dataframe tbody tr th:only-of-type {\n",
       "        vertical-align: middle;\n",
       "    }\n",
       "\n",
       "    .dataframe tbody tr th {\n",
       "        vertical-align: top;\n",
       "    }\n",
       "\n",
       "    .dataframe thead th {\n",
       "        text-align: right;\n",
       "    }\n",
       "</style>\n",
       "<table border=\"1\" class=\"dataframe\">\n",
       "  <thead>\n",
       "    <tr style=\"text-align: right;\">\n",
       "      <th></th>\n",
       "      <th>city</th>\n",
       "      <th>April 08, 2020_x</th>\n",
       "      <th>April 08, 2020_y</th>\n",
       "      <th>April 07, 2020</th>\n",
       "      <th>April 06, 2020</th>\n",
       "      <th>April 05, 2020</th>\n",
       "      <th>April 04, 2020</th>\n",
       "      <th>April 03, 2020</th>\n",
       "      <th>April 02, 2020</th>\n",
       "      <th>April 01, 2020</th>\n",
       "      <th>March 31, 2020</th>\n",
       "      <th>March 30, 2020</th>\n",
       "      <th>March 29, 2020</th>\n",
       "      <th>March 28, 2020</th>\n",
       "      <th>March 27, 2020</th>\n",
       "      <th>March 26, 2020</th>\n",
       "      <th>March 25, 2020</th>\n",
       "      <th>March 24, 2020</th>\n",
       "      <th>March 23, 2020</th>\n",
       "      <th>March 22, 2020</th>\n",
       "    </tr>\n",
       "  </thead>\n",
       "  <tbody>\n",
       "    <tr>\n",
       "      <th>0</th>\n",
       "      <td>City of Agoura Hills</td>\n",
       "      <td>19</td>\n",
       "      <td>19</td>\n",
       "      <td>19</td>\n",
       "      <td>18</td>\n",
       "      <td>18</td>\n",
       "      <td>17</td>\n",
       "      <td>16</td>\n",
       "      <td>14</td>\n",
       "      <td>10</td>\n",
       "      <td>11</td>\n",
       "      <td>9</td>\n",
       "      <td>9</td>\n",
       "      <td>9</td>\n",
       "      <td>6</td>\n",
       "      <td>NaN</td>\n",
       "      <td>NaN</td>\n",
       "      <td>NaN</td>\n",
       "      <td>NaN</td>\n",
       "      <td>NaN</td>\n",
       "    </tr>\n",
       "    <tr>\n",
       "      <th>1</th>\n",
       "      <td>City of Alhambra</td>\n",
       "      <td>26</td>\n",
       "      <td>26</td>\n",
       "      <td>24</td>\n",
       "      <td>22</td>\n",
       "      <td>21</td>\n",
       "      <td>19</td>\n",
       "      <td>17</td>\n",
       "      <td>15</td>\n",
       "      <td>13</td>\n",
       "      <td>13</td>\n",
       "      <td>11</td>\n",
       "      <td>10</td>\n",
       "      <td>10</td>\n",
       "      <td>8</td>\n",
       "      <td>NaN</td>\n",
       "      <td>NaN</td>\n",
       "      <td>NaN</td>\n",
       "      <td>NaN</td>\n",
       "      <td>NaN</td>\n",
       "    </tr>\n",
       "    <tr>\n",
       "      <th>2</th>\n",
       "      <td>City of Arcadia</td>\n",
       "      <td>17</td>\n",
       "      <td>17</td>\n",
       "      <td>17</td>\n",
       "      <td>16</td>\n",
       "      <td>14</td>\n",
       "      <td>13</td>\n",
       "      <td>13</td>\n",
       "      <td>12</td>\n",
       "      <td>12</td>\n",
       "      <td>10</td>\n",
       "      <td>9</td>\n",
       "      <td>9</td>\n",
       "      <td>8</td>\n",
       "      <td>6</td>\n",
       "      <td>NaN</td>\n",
       "      <td>NaN</td>\n",
       "      <td>NaN</td>\n",
       "      <td>NaN</td>\n",
       "      <td>NaN</td>\n",
       "    </tr>\n",
       "  </tbody>\n",
       "</table>\n",
       "</div>"
      ],
      "text/plain": [
       "                   city April 08, 2020_x  ... March 23, 2020 March 22, 2020\n",
       "0  City of Agoura Hills               19  ...            NaN            NaN\n",
       "1      City of Alhambra               26  ...            NaN            NaN\n",
       "2       City of Arcadia               17  ...            NaN            NaN\n",
       "\n",
       "[3 rows x 20 columns]"
      ]
     },
     "execution_count": 15,
     "metadata": {},
     "output_type": "execute_result"
    }
   ],
   "source": [
    "df.head(3)"
   ]
  },
  {
   "cell_type": "markdown",
   "metadata": {},
   "source": [
    "After checking the merged dataset, some data was not properly merge since the city name format has been change since March 26, 2020. We need do minor fix on the dataset."
   ]
  },
  {
   "cell_type": "code",
   "execution_count": 16,
   "metadata": {
    "ExecuteTime": {
     "end_time": "2020-04-09T18:20:42.619232Z",
     "start_time": "2020-04-09T18:20:42.611227Z"
    }
   },
   "outputs": [],
   "source": [
    "df.drop([\"April 09, 2020_y\", \"March 26, 2020\", \"March 25, 2020\", \"March 24, 2020\", \"March 23, 2020\", \"March 22, 2020\"], axis=1, inplace=True)\n",
    "df.rename({\"April 09, 2020_x\":\"April 09, 2020\"}, axis=1, inplace=True )\n",
    "df[\"city2\"] = df[\"city\"].apply(lambda x: aka_name(x))"
   ]
  },
  {
   "cell_type": "code",
   "execution_count": 17,
   "metadata": {
    "ExecuteTime": {
     "end_time": "2020-04-09T18:20:44.667695Z",
     "start_time": "2020-04-09T18:20:44.635503Z"
    }
   },
   "outputs": [],
   "source": [
    "# fix data for the first 5 day data\n",
    "key_list = list(LA_data.keys())[-5 : ]\n",
    "for key in key_list:\n",
    "    df2 = pd.DataFrame(LA_data[key], columns= [\"city2\", key])\n",
    "    df2[\"city2\"] = df2[\"city2\"].apply(lambda x : x.strip(\"*\"))\n",
    "    df2.set_index([\"city2\"])\n",
    "    df = pd.merge(df, df2, how='left', left_on=\"city2\", right_on=\"city2\")\n",
    "    \n",
    "df.set_index(\"city\", inplace=True)"
   ]
  },
  {
   "cell_type": "code",
   "execution_count": 18,
   "metadata": {
    "ExecuteTime": {
     "end_time": "2020-04-09T18:20:52.846252Z",
     "start_time": "2020-04-09T18:20:52.809642Z"
    }
   },
   "outputs": [
    {
     "data": {
      "text/html": [
       "<div>\n",
       "<style scoped>\n",
       "    .dataframe tbody tr th:only-of-type {\n",
       "        vertical-align: middle;\n",
       "    }\n",
       "\n",
       "    .dataframe tbody tr th {\n",
       "        vertical-align: top;\n",
       "    }\n",
       "\n",
       "    .dataframe thead th {\n",
       "        text-align: right;\n",
       "    }\n",
       "</style>\n",
       "<table border=\"1\" class=\"dataframe\">\n",
       "  <thead>\n",
       "    <tr style=\"text-align: right;\">\n",
       "      <th></th>\n",
       "      <th>April 08, 2020</th>\n",
       "      <th>April 07, 2020</th>\n",
       "      <th>April 06, 2020</th>\n",
       "      <th>April 05, 2020</th>\n",
       "      <th>April 04, 2020</th>\n",
       "      <th>April 03, 2020</th>\n",
       "      <th>April 02, 2020</th>\n",
       "      <th>April 01, 2020</th>\n",
       "      <th>March 31, 2020</th>\n",
       "      <th>March 30, 2020</th>\n",
       "      <th>March 29, 2020</th>\n",
       "      <th>March 28, 2020</th>\n",
       "      <th>March 27, 2020</th>\n",
       "      <th>city2</th>\n",
       "      <th>March 26, 2020</th>\n",
       "      <th>March 25, 2020</th>\n",
       "      <th>March 24, 2020</th>\n",
       "      <th>March 23, 2020</th>\n",
       "      <th>March 22, 2020</th>\n",
       "    </tr>\n",
       "    <tr>\n",
       "      <th>city</th>\n",
       "      <th></th>\n",
       "      <th></th>\n",
       "      <th></th>\n",
       "      <th></th>\n",
       "      <th></th>\n",
       "      <th></th>\n",
       "      <th></th>\n",
       "      <th></th>\n",
       "      <th></th>\n",
       "      <th></th>\n",
       "      <th></th>\n",
       "      <th></th>\n",
       "      <th></th>\n",
       "      <th></th>\n",
       "      <th></th>\n",
       "      <th></th>\n",
       "      <th></th>\n",
       "      <th></th>\n",
       "      <th></th>\n",
       "    </tr>\n",
       "  </thead>\n",
       "  <tbody>\n",
       "    <tr>\n",
       "      <th>City of Agoura Hills</th>\n",
       "      <td>19</td>\n",
       "      <td>19</td>\n",
       "      <td>18</td>\n",
       "      <td>18</td>\n",
       "      <td>17</td>\n",
       "      <td>16</td>\n",
       "      <td>14</td>\n",
       "      <td>10</td>\n",
       "      <td>11</td>\n",
       "      <td>9</td>\n",
       "      <td>9</td>\n",
       "      <td>9</td>\n",
       "      <td>6</td>\n",
       "      <td>Agoura Hills</td>\n",
       "      <td>5</td>\n",
       "      <td>3</td>\n",
       "      <td>3</td>\n",
       "      <td>1</td>\n",
       "      <td>NaN</td>\n",
       "    </tr>\n",
       "    <tr>\n",
       "      <th>City of Alhambra</th>\n",
       "      <td>26</td>\n",
       "      <td>24</td>\n",
       "      <td>22</td>\n",
       "      <td>21</td>\n",
       "      <td>19</td>\n",
       "      <td>17</td>\n",
       "      <td>15</td>\n",
       "      <td>13</td>\n",
       "      <td>13</td>\n",
       "      <td>11</td>\n",
       "      <td>10</td>\n",
       "      <td>10</td>\n",
       "      <td>8</td>\n",
       "      <td>Alhambra</td>\n",
       "      <td>8</td>\n",
       "      <td>6</td>\n",
       "      <td>5</td>\n",
       "      <td>4</td>\n",
       "      <td>NaN</td>\n",
       "    </tr>\n",
       "    <tr>\n",
       "      <th>City of Arcadia</th>\n",
       "      <td>17</td>\n",
       "      <td>17</td>\n",
       "      <td>16</td>\n",
       "      <td>14</td>\n",
       "      <td>13</td>\n",
       "      <td>13</td>\n",
       "      <td>12</td>\n",
       "      <td>12</td>\n",
       "      <td>10</td>\n",
       "      <td>9</td>\n",
       "      <td>9</td>\n",
       "      <td>8</td>\n",
       "      <td>6</td>\n",
       "      <td>Arcadia</td>\n",
       "      <td>6</td>\n",
       "      <td>4</td>\n",
       "      <td>4</td>\n",
       "      <td>3</td>\n",
       "      <td>2</td>\n",
       "    </tr>\n",
       "  </tbody>\n",
       "</table>\n",
       "</div>"
      ],
      "text/plain": [
       "                     April 08, 2020  ... March 22, 2020\n",
       "city                                 ...               \n",
       "City of Agoura Hills             19  ...            NaN\n",
       "City of Alhambra                 26  ...            NaN\n",
       "City of Arcadia                  17  ...              2\n",
       "\n",
       "[3 rows x 19 columns]"
      ]
     },
     "execution_count": 18,
     "metadata": {},
     "output_type": "execute_result"
    }
   ],
   "source": [
    "df.head(3)"
   ]
  },
  {
   "cell_type": "code",
   "execution_count": 19,
   "metadata": {
    "ExecuteTime": {
     "end_time": "2020-04-09T18:21:04.590992Z",
     "start_time": "2020-04-09T18:21:04.545740Z"
    }
   },
   "outputs": [
    {
     "data": {
      "text/html": [
       "<div>\n",
       "<style scoped>\n",
       "    .dataframe tbody tr th:only-of-type {\n",
       "        vertical-align: middle;\n",
       "    }\n",
       "\n",
       "    .dataframe tbody tr th {\n",
       "        vertical-align: top;\n",
       "    }\n",
       "\n",
       "    .dataframe thead th {\n",
       "        text-align: right;\n",
       "    }\n",
       "</style>\n",
       "<table border=\"1\" class=\"dataframe\">\n",
       "  <thead>\n",
       "    <tr style=\"text-align: right;\">\n",
       "      <th></th>\n",
       "      <th>April 08, 2020</th>\n",
       "      <th>April 07, 2020</th>\n",
       "      <th>April 06, 2020</th>\n",
       "      <th>April 05, 2020</th>\n",
       "      <th>April 04, 2020</th>\n",
       "      <th>April 03, 2020</th>\n",
       "      <th>April 02, 2020</th>\n",
       "      <th>April 01, 2020</th>\n",
       "      <th>March 31, 2020</th>\n",
       "      <th>March 30, 2020</th>\n",
       "      <th>March 29, 2020</th>\n",
       "      <th>March 28, 2020</th>\n",
       "      <th>March 27, 2020</th>\n",
       "      <th>city2</th>\n",
       "      <th>March 26, 2020</th>\n",
       "      <th>March 25, 2020</th>\n",
       "      <th>March 24, 2020</th>\n",
       "      <th>March 23, 2020</th>\n",
       "      <th>March 22, 2020</th>\n",
       "    </tr>\n",
       "    <tr>\n",
       "      <th>city</th>\n",
       "      <th></th>\n",
       "      <th></th>\n",
       "      <th></th>\n",
       "      <th></th>\n",
       "      <th></th>\n",
       "      <th></th>\n",
       "      <th></th>\n",
       "      <th></th>\n",
       "      <th></th>\n",
       "      <th></th>\n",
       "      <th></th>\n",
       "      <th></th>\n",
       "      <th></th>\n",
       "      <th></th>\n",
       "      <th></th>\n",
       "      <th></th>\n",
       "      <th></th>\n",
       "      <th></th>\n",
       "      <th></th>\n",
       "    </tr>\n",
       "  </thead>\n",
       "  <tbody>\n",
       "    <tr>\n",
       "      <th>Unincorporated - Wiseburn</th>\n",
       "      <td>--</td>\n",
       "      <td>--</td>\n",
       "      <td>--</td>\n",
       "      <td>--</td>\n",
       "      <td>--</td>\n",
       "      <td>--</td>\n",
       "      <td>--</td>\n",
       "      <td>--</td>\n",
       "      <td>--</td>\n",
       "      <td>--</td>\n",
       "      <td>--</td>\n",
       "      <td>--</td>\n",
       "      <td>--</td>\n",
       "      <td>Wiseburn</td>\n",
       "      <td>NaN</td>\n",
       "      <td>NaN</td>\n",
       "      <td>NaN</td>\n",
       "      <td>NaN</td>\n",
       "      <td>NaN</td>\n",
       "    </tr>\n",
       "    <tr>\n",
       "      <th>-  Under Investigation</th>\n",
       "      <td>732</td>\n",
       "      <td>599</td>\n",
       "      <td>599</td>\n",
       "      <td>614</td>\n",
       "      <td>606</td>\n",
       "      <td>518</td>\n",
       "      <td>505</td>\n",
       "      <td>394</td>\n",
       "      <td>309</td>\n",
       "      <td>222</td>\n",
       "      <td>184</td>\n",
       "      <td>154</td>\n",
       "      <td>143</td>\n",
       "      <td>-  Under Investigation</td>\n",
       "      <td>141</td>\n",
       "      <td>56</td>\n",
       "      <td>62</td>\n",
       "      <td>61</td>\n",
       "      <td>38</td>\n",
       "    </tr>\n",
       "    <tr>\n",
       "      <th>City of Pasadena</th>\n",
       "      <td>80</td>\n",
       "      <td>72</td>\n",
       "      <td>58</td>\n",
       "      <td>58</td>\n",
       "      <td>37</td>\n",
       "      <td>37</td>\n",
       "      <td>37</td>\n",
       "      <td>33</td>\n",
       "      <td>25</td>\n",
       "      <td>10</td>\n",
       "      <td>10</td>\n",
       "      <td>9</td>\n",
       "      <td>9</td>\n",
       "      <td>Pasadena</td>\n",
       "      <td>9</td>\n",
       "      <td>7</td>\n",
       "      <td>6</td>\n",
       "      <td>3</td>\n",
       "      <td>3</td>\n",
       "    </tr>\n",
       "  </tbody>\n",
       "</table>\n",
       "</div>"
      ],
      "text/plain": [
       "                          April 08, 2020  ... March 22, 2020\n",
       "city                                      ...               \n",
       "Unincorporated - Wiseburn             --  ...            NaN\n",
       "-  Under Investigation               732  ...            38 \n",
       "City of Pasadena                      80  ...              3\n",
       "\n",
       "[3 rows x 19 columns]"
      ]
     },
     "execution_count": 19,
     "metadata": {},
     "output_type": "execute_result"
    }
   ],
   "source": [
    "# Update value for Long Beach and Pasadena\n",
    "ndf = pd.DataFrame(NLB).set_index(0).transpose()\n",
    "df.loc[\"Unincorporated - Long Beach\",:] = ndf.values.tolist()[0]\n",
    "ndf2 = pd.DataFrame(NPD).set_index(0).transpose()\n",
    "df.loc[\"City of Pasadena\",:] = ndf2.values.tolist()[0]\n",
    "df.tail(3)"
   ]
  },
  {
   "cell_type": "markdown",
   "metadata": {},
   "source": [
    "The LA dataset were cleaned and we can save it as a backup."
   ]
  },
  {
   "cell_type": "code",
   "execution_count": 787,
   "metadata": {
    "ExecuteTime": {
     "end_time": "2020-04-09T05:25:10.844127Z",
     "start_time": "2020-04-09T05:25:10.837320Z"
    }
   },
   "outputs": [],
   "source": [
    "# making a csv backup\n",
    "df.to_csv(\"la_community_0408.csv\", index=True)"
   ]
  },
  {
   "cell_type": "markdown",
   "metadata": {},
   "source": [
    "### Korea data"
   ]
  },
  {
   "cell_type": "code",
   "execution_count": 380,
   "metadata": {
    "ExecuteTime": {
     "end_time": "2020-04-08T05:23:20.482595Z",
     "start_time": "2020-04-08T05:23:20.479175Z"
    }
   },
   "outputs": [],
   "source": [
    "with open(\"./Data/Testing/South_Korea_History data.csv\", \"r\", newline=\"\") as f:\n",
    "    reader = csv.reader(f)\n",
    "    k_data = list(reader)"
   ]
  },
  {
   "cell_type": "code",
   "execution_count": 394,
   "metadata": {
    "ExecuteTime": {
     "end_time": "2020-04-08T05:29:53.277238Z",
     "start_time": "2020-04-08T05:29:53.263601Z"
    }
   },
   "outputs": [],
   "source": [
    "# data pipeline for Korea Data\n",
    "\n",
    "tmp_lst = []\n",
    "for i in k_data:\n",
    "    if len(i)>3:\n",
    "        tmp_lst.append(i[3])\n",
    "# tmp_lst = list(i[3] if len(i)>3 for i in k_data)\n",
    "tmp_lst2 = []\n",
    "for item in tmp_lst:\n",
    "    tmp_lst3 = item.replace(', ', '').replace(\"'\", '').replace(\"]\", '').split(\"\\\\n\")[1:]\n",
    "    if tmp_lst3[0] not in [\"discharged\", \"Busan\"]:\n",
    "        tmp_lst2.append(tmp_lst3)\n",
    "\n",
    "for i in range(len(tmp_lst2)):\n",
    "    for j in range(len(tmp_lst2[i])):\n",
    "        tmp_lst2[i][j] = (tmp_lst2[i][j].replace(\"As of 0:00\", '').replace(\"As of 9:00\", '')\n",
    "                          .replace(\"As of 16:00\", '').replace(\"As of 09:00\", '')\n",
    "                          .replace(\"As of 00:00\", '').replace(\"As of 11:30\", '')\n",
    "                          .replace(\"As of 16:30\", '').replace(\"As of 11:00\", '')\n",
    "                         .replace(\".\",\"\").replace(\",\",\"\").replace(\"\\\\xa0\",\"\")\n",
    "                          .replace(\"March\",\"Mar\").replace(\"April\",\"Apr\")\n",
    "                          .strip().strip(\"*\"))\n",
    "                          \n",
    "    if len(tmp_lst2[i][0].strip()) == 0:\n",
    "        tmp_lst2[i] = tmp_lst2[i][1:]\n",
    "    if len(tmp_lst2[i][2].strip()) == 0:\n",
    "        tmp_lst2[i].remove(\"\")\n",
    "    if  \" (\" in tmp_lst2[i][0]:\n",
    "        tmp_lst2[i][0] = tmp_lst2[i][0][: tmp_lst2[i][0].find(\" (\")]\n",
    "\n",
    "## keep only one daily data\n",
    "tmp_lst4 = [tmp_lst2[0]]\n",
    "for i in range(2, len(tmp_lst2)):\n",
    "    if tmp_lst2[i][0] != tmp_lst2[i-1][0] and tmp_lst2[i][0] != tmp_lst2[i-2][0]:\n",
    "        tmp_lst4.append(tmp_lst2[i])\n",
    "\n",
    "df = pd.DataFrame(tmp_lst4)\n",
    "df.to_csv(\"k_data_0406_raw.csv\")        "
   ]
  },
  {
   "cell_type": "code",
   "execution_count": 91,
   "metadata": {
    "ExecuteTime": {
     "end_time": "2020-04-07T17:47:34.848846Z",
     "start_time": "2020-04-07T17:47:34.838170Z"
    }
   },
   "outputs": [],
   "source": [
    "# df = pd.read_csv(\"./Data/Testing/k_data_0406_raw.csv\")"
   ]
  },
  {
   "cell_type": "code",
   "execution_count": 417,
   "metadata": {
    "ExecuteTime": {
     "end_time": "2020-04-08T05:46:09.724778Z",
     "start_time": "2020-04-08T05:46:09.708087Z"
    }
   },
   "outputs": [],
   "source": [
    "### fix mismatch record\n",
    "df = df.set_index(0)\n",
    "df2 = df.loc[\"13 Mar\":\"20 Feb\", 7:8]\n",
    "df2.rename(columns={7: 6, 8: 7}, inplace=True)\n",
    "df.loc[\"13 Mar\":\"20 Feb\", 6:7] = df2\n",
    "mismatch_date_lst = [\"19 Feb\", \"18 Feb\", \"16 Feb\", \"14 Feb\", \"12 Feb\", \"10 Feb\", \"8 Feb\"]\n",
    "for date in mismatch_date_lst:\n",
    "    value_lst = df.loc[date, 2:6].tolist()\n",
    "    value_lst.insert(0, int(value_lst[0]) + int(value_lst[1]))\n",
    "    df.loc[date, 2:7] = value_lst\n",
    "    \n",
    "# impute missing Feb 15th Data with real data\n",
    "df.loc[\"15 Feb\"] = [7734, 28, 19, 9 , 0, 558, 7148,0]\n",
    "\n",
    "df.loc[\"19 Feb\":\"8 Feb\", 5] = 0\n",
    "df.drop(8, axis=1, inplace=True)\n",
    "\n",
    "# convert to readable column name\n",
    "n_columns=[\"Total\",\"PCR_Confirmed\",\"PCR_Discharged\",\"PCR_Isolated\",\"PCR_Deceased\",\"Being_tested\",\"Tested_negative\"]\n",
    "col_dict = dict((i , n_columns[int(i)-1]) for i in df.columns)\n",
    "df.rename(col_dict, axis=1, inplace=True)\n",
    "df.to_csv(\"korea_data.csv\")"
   ]
  }
 ],
 "metadata": {
  "kernelspec": {
   "display_name": "Python 3",
   "language": "python",
   "name": "python3"
  },
  "language_info": {
   "codemirror_mode": {
    "name": "ipython",
    "version": 3
   },
   "file_extension": ".py",
   "mimetype": "text/x-python",
   "name": "python",
   "nbconvert_exporter": "python",
   "pygments_lexer": "ipython3",
   "version": "3.6.5"
  },
  "toc": {
   "base_numbering": 1,
   "nav_menu": {},
   "number_sections": true,
   "sideBar": true,
   "skip_h1_title": false,
   "title_cell": "Table of Contents",
   "title_sidebar": "Contents",
   "toc_cell": false,
   "toc_position": {
    "height": "calc(100% - 180px)",
    "left": "10px",
    "top": "150px",
    "width": "370.594px"
   },
   "toc_section_display": true,
   "toc_window_display": true
  },
  "varInspector": {
   "cols": {
    "lenName": 16,
    "lenType": 16,
    "lenVar": 40
   },
   "kernels_config": {
    "python": {
     "delete_cmd_postfix": "",
     "delete_cmd_prefix": "del ",
     "library": "var_list.py",
     "varRefreshCmd": "print(var_dic_list())"
    },
    "r": {
     "delete_cmd_postfix": ") ",
     "delete_cmd_prefix": "rm(",
     "library": "var_list.r",
     "varRefreshCmd": "cat(var_dic_list()) "
    }
   },
   "position": {
    "height": "384px",
    "left": "1483px",
    "right": "20px",
    "top": "120px",
    "width": "350px"
   },
   "types_to_exclude": [
    "module",
    "function",
    "builtin_function_or_method",
    "instance",
    "_Feature"
   ],
   "window_display": true
  }
 },
 "nbformat": 4,
 "nbformat_minor": 4
}
