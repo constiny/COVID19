{
 "cells": [
  {
   "cell_type": "markdown",
   "metadata": {},
   "source": [
    "# Project Timeline\n",
    "    - Monday: Data acquiration \n",
    "    - Tuesday: Pineline, EDA and Visualization\n",
    "    - Wednesday: Hypotheses testing and get things organized\n",
    "    - Thursday: Preparation for presentation\n",
    "    - Friday: Update latest data and make minor revise\n",
    "\n",
    "-----------------\n"
   ]
  },
  {
   "cell_type": "markdown",
   "metadata": {},
   "source": [
    "# Monday: Data acquiration\n",
    "    - [x] Getting CSSE data on github\n",
    "    - [x] Gather state testing data thru API\n",
    "    - []  Webscrap korean testing data\n",
    "    - []  Webscrap LA community level data\n",
    "    - []  consolidate as database backup into psql"
   ]
  },
  {
   "cell_type": "markdown",
   "metadata": {},
   "source": [
    "Data Source:\n",
    "\n",
    "- **Getting CSSE data on github**\n",
    "\n",
    "    source: https://github.com/CSSEGISandData/COVID-19 by Johns Hopkins CSSE\n",
    "\n",
    "\n",
    "- **Gather state testing data thru API**\n",
    "\n",
    "    source: https://covidtracking.com/data by Johns Hopkins CSSE\n",
    "    - US Testing in Time Series https://covidtracking.com/api/us/daily.csv\n",
    "    - States Historical Data https://covidtracking.com/api/states/daily.csv\n",
    "\n",
    "\n",
    "- **Webscrap korean testing data**\n",
    "\n",
    "    Source: CDC of South Korean\n",
    "    - sample data https://www.cdc.go.kr/board/board.es?mid=&bid=0030&act=view&list_no=366735\n",
    "    \n",
    "    \n",
    "- **Webscrap LA community level data**\n",
    "\n",
    "    Source: The Department of Public Health of Los Angeles County\n",
    "    - sample data http://publichealth.lacounty.gov/phcommon/public/media/mediapubhpdetail.cfm?prid=2298"
   ]
  },
  {
   "cell_type": "markdown",
   "metadata": {},
   "source": [
    "**Web scraping preparion**"
   ]
  },
  {
   "cell_type": "markdown",
   "metadata": {},
   "source": [
    "Firstly, create a webscrap class including functions for getting tables, get text and get urls. Such class definition is stored as ./src/web_scraping"
   ]
  },
  {
   "cell_type": "code",
   "execution_count": null,
   "metadata": {},
   "outputs": [],
   "source": []
  },
  {
   "cell_type": "code",
   "execution_count": null,
   "metadata": {},
   "outputs": [],
   "source": []
  },
  {
   "cell_type": "code",
   "execution_count": null,
   "metadata": {},
   "outputs": [],
   "source": []
  },
  {
   "cell_type": "markdown",
   "metadata": {
    "ExecuteTime": {
     "end_time": "2020-04-06T17:48:54.122487Z",
     "start_time": "2020-04-06T17:48:54.118833Z"
    }
   },
   "source": [
    "# Tuesday: Pineline, EDA and Visualization\n",
    "    -[ ] Data screening and mark outlier\n",
    "    -[ ] create pineline to process data\n",
    "    -[ ] EDA on confirm case, death case, daily confirm case and testing data on Korean, CA, NY, US\n",
    "    -[ ] Visualization on community level"
   ]
  },
  {
   "cell_type": "code",
   "execution_count": null,
   "metadata": {},
   "outputs": [],
   "source": []
  }
 ],
 "metadata": {
  "kernelspec": {
   "display_name": "Python 3",
   "language": "python",
   "name": "python3"
  },
  "language_info": {
   "codemirror_mode": {
    "name": "ipython",
    "version": 3
   },
   "file_extension": ".py",
   "mimetype": "text/x-python",
   "name": "python",
   "nbconvert_exporter": "python",
   "pygments_lexer": "ipython3",
   "version": "3.6.5"
  },
  "toc": {
   "base_numbering": 1,
   "nav_menu": {},
   "number_sections": true,
   "sideBar": true,
   "skip_h1_title": false,
   "title_cell": "Table of Contents",
   "title_sidebar": "Contents",
   "toc_cell": false,
   "toc_position": {},
   "toc_section_display": true,
   "toc_window_display": false
  },
  "varInspector": {
   "cols": {
    "lenName": 16,
    "lenType": 16,
    "lenVar": 40
   },
   "kernels_config": {
    "python": {
     "delete_cmd_postfix": "",
     "delete_cmd_prefix": "del ",
     "library": "var_list.py",
     "varRefreshCmd": "print(var_dic_list())"
    },
    "r": {
     "delete_cmd_postfix": ") ",
     "delete_cmd_prefix": "rm(",
     "library": "var_list.r",
     "varRefreshCmd": "cat(var_dic_list()) "
    }
   },
   "types_to_exclude": [
    "module",
    "function",
    "builtin_function_or_method",
    "instance",
    "_Feature"
   ],
   "window_display": false
  }
 },
 "nbformat": 4,
 "nbformat_minor": 4
}
