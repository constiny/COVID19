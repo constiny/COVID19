{
 "cells": [
  {
   "cell_type": "markdown",
   "metadata": {},
   "source": [
    "# Project Timeline\n",
    "    - Monday: Data acquisition \n",
    "    - Tuesday: Pineline, EDA and Visualization\n",
    "    - Wednesday: Hypotheses testing and get things organized\n",
    "    - Thursday: Preparation for presentation\n",
    "    - Friday: Update latest data and make minor revise\n",
    "\n",
    "-----------------\n"
   ]
  },
  {
   "cell_type": "markdown",
   "metadata": {},
   "source": [
    "# Monday: Data acquisition\n",
    "    - [x] Getting CSSE data on github\n",
    "    - [x] Gather state testing data thru API\n",
    "    - [x]  Webscrap korean testing data\n",
    "    - [x]  Webscrap LA community level data\n",
    "    - []  consolidate as database backup into psql"
   ]
  },
  {
   "cell_type": "markdown",
   "metadata": {},
   "source": [
    "**Data Source:**\n",
    "\n",
    "- **Getting CSSE data on github**\n",
    "\n",
    "    source: https://github.com/CSSEGISandData/COVID-19 by Johns Hopkins CSSE\n",
    "\n",
    "\n",
    "- **Gather state testing data thru API**\n",
    "\n",
    "    source: https://covidtracking.com/data \n",
    "    - US Testing in Time Series https://covidtracking.com/api/us/daily.csv\n",
    "    - States Historical Data https://covidtracking.com/api/states/daily.csv\n",
    "\n",
    "\n",
    "- **Webscrap korean testing data**\n",
    "\n",
    "    Source: CDC of South Korean\n",
    "    - sample data https://www.cdc.go.kr/board/board.es?mid=&bid=0030&act=view&list_no=366735\n",
    "    \n",
    "    \n",
    "- **Webscrap LA community level data**\n",
    "\n",
    "    Source: The Department of Public Health of Los Angeles County\n",
    "    - sample data http://publichealth.lacounty.gov/phcommon/public/media/mediapubhpdetail.cfm?prid=2298"
   ]
  },
  {
   "cell_type": "markdown",
   "metadata": {},
   "source": [
    "**Web scraping preparion**"
   ]
  },
  {
   "cell_type": "markdown",
   "metadata": {},
   "source": [
    "Firstly, create a webscrap class including functions for getting tables, get text and get urls. Such class definition is stored as ./src/web_scraping"
   ]
  },
  {
   "cell_type": "code",
   "execution_count": 2,
   "metadata": {
    "ExecuteTime": {
     "end_time": "2020-04-07T17:08:59.424328Z",
     "start_time": "2020-04-07T17:08:58.920274Z"
    }
   },
   "outputs": [],
   "source": [
    "from src.web_scaping import webscrap\n",
    "import pandas as pd\n",
    "import csv"
   ]
  },
  {
   "cell_type": "markdown",
   "metadata": {},
   "source": [
    "**Gather data with webscape class**\n",
    "\n",
    "Many experts treated South Korea as a best practice in controlling COVID-19 and an good model to follow. Hence, in this study we will compare COVID-19 data between US and South Korea.\n",
    "\n",
    "Unfortunately, there isn't an existing data source for South Korea testing data for the coronavirus. We utilized web scaping technique to collect data from press release of each day.\n"
   ]
  },
  {
   "cell_type": "code",
   "execution_count": null,
   "metadata": {},
   "outputs": [],
   "source": [
    "# Gather all urls for all korean press releases\n",
    "\n",
    "url_p1 = \"https://www.cdc.go.kr/board.es?mid=&bid=0030&nPage=\"\n",
    "url_p2 = (str(i) for i in list(range(1,25)))\n",
    "\n",
    "url_lst = []\n",
    "\n",
    "for page in url_p2:\n",
    "    nws = webscrap(url_p1 + page)\n",
    "    nws.start(random_headers = True)\n",
    "    url_lst.append(nws.get_urls())\n",
    "\n",
    "with open(\"url_k_t.csv\", \"w\", newline=\"\") as f:\n",
    "    writer = csv.writer(f)\n",
    "    writer.writerows(url_lst2)\n",
    "    "
   ]
  },
  {
   "cell_type": "code",
   "execution_count": null,
   "metadata": {},
   "outputs": [],
   "source": [
    "# Gather Table from each page\n",
    "\n",
    "url_p1 = \"https://www.cdc.go.kr\"\n",
    "out_lst = []\n",
    "\n",
    "for page in urls2:\n",
    "    nws = webscrap(url_p1 + page)\n",
    "    nws.start(random_headers = True)\n",
    "    out_lst.append(nws.get_table())\n",
    "\n",
    "with open(\"South_Korea_History data.csv\", \"w\", newline=\"\") as f:\n",
    "    writer = csv.writer(f)\n",
    "    writer.writerows(out_lst)\n",
    "    "
   ]
  },
  {
   "cell_type": "markdown",
   "metadata": {},
   "source": [
    "Not only the big picture in a country scale that we care, we also wants to provide a LA picture community level data. Similarly, we webscaped community level data from press release from Department of Public Health of Los Angeles County."
   ]
  },
  {
   "cell_type": "code",
   "execution_count": null,
   "metadata": {},
   "outputs": [],
   "source": [
    "# collect LA data\n",
    "\n",
    "url = \"http://publichealth.lacounty.gov/phcommon/public/media/mediapubhpdetail.cfm?prid=\"\n",
    "url_lst = []\n",
    "for i in list(range(2300,2267,-1)):\n",
    "    url_lst.append(url + str(i))\n",
    "out = []\n",
    "for url in url_lst:\n",
    "    nws = webscrap(url)\n",
    "    nws.start(random_headers = True)\n",
    "    temp_lst = []\n",
    "    text = nws.get_text(elements = [\"ul\", \"li\"])\n",
    "    if text:\n",
    "        temp_lst.append(url[-4:])\n",
    "        temp_lst.append(nws.get_table(index=1)[0][0])\n",
    "        temp_lst.append(text)\n",
    "        out.append(temp_lst)\n",
    "\n",
    "# Save as csv\n",
    "\n",
    "with open(\"LA_backup.csv\", \"w\", newline=\"\") as f:\n",
    "    writer = csv.writer(f)\n",
    "    writer.writerows(out)\n"
   ]
  },
  {
   "cell_type": "markdown",
   "metadata": {},
   "source": [
    "### Data Cleaning\n",
    "\n",
    "Create a data pipeline to structure data\n",
    "- LA data"
   ]
  },
  {
   "cell_type": "code",
   "execution_count": null,
   "metadata": {},
   "outputs": [],
   "source": [
    "def lacounty_daily_text_2_table(text_list):\n",
    "    # pipeline function for date from mar 30\n",
    "    out_lst = []\n",
    "    temp = list(filter(lambda x: \"City\" in x, text_list))\n",
    "    if temp:\n",
    "        string = temp[0]\n",
    "        str_lst2 = string.split(\"\\t  \")\n",
    "        string2 = str_lst2[0][:str_lst2[0].find(\"\\t(\\t\")]\n",
    "\n",
    "        for i in str_lst2:\n",
    "            string2 = i[:i.find(\"\\t(\\t\")]\n",
    "            out_lst.append(string2.replace(\"\\t\",\",\").split(\",\"))\n",
    "    return out_lst"
   ]
  },
  {
   "cell_type": "code",
   "execution_count": null,
   "metadata": {},
   "outputs": [],
   "source": [
    "def lacounty_daily_text_2_table2(text_list):\n",
    "    # pipeline function for date of mar 22 - mar 29\n",
    "    out_lst = []\n",
    "    temp = list(filter(lambda x: \"City\" in x, text_list))\n",
    "    if temp:\n",
    "        string = temp[0]\n",
    "        str_lst2 = string.split(\"\\t\")\n",
    "        for i in range(len(str_lst2) - 1):\n",
    "            temp_lst = []\n",
    "            temp_lst.append (str_lst2[i].split(\"  \", 1)[1])\n",
    "            temp_lst.append (str_lst2[i + 1].split(\"  \", 1)[0])\n",
    "            out_lst.append(temp_lst)\n",
    "    return out_lst"
   ]
  },
  {
   "cell_type": "code",
   "execution_count": null,
   "metadata": {},
   "outputs": [],
   "source": [
    "# data pipeline after Mar 30\n",
    "out2 = []\n",
    "for item in out:\n",
    "    temp_lst = [item[1].split(\"\\r\\n\\t\")[1]]\n",
    "    if len(item[2]) > 0:\n",
    "        temp_lst.append(lacounty_daily_text_2_table(item[2]))\n",
    "    out2.append(temp_lst)"
   ]
  },
  {
   "cell_type": "code",
   "execution_count": null,
   "metadata": {},
   "outputs": [],
   "source": [
    "# data pipeline before mar 29\n",
    "out3 = []\n",
    "for item in out[11:]:\n",
    "    temp_lst = [item[1].split(\"\\r\\n\\t\")[1]]\n",
    "    if len(item[2]) > 0:\n",
    "        temp_lst.append(lacounty_daily_text_2_table2(item[2]))\n",
    "    out3.append(temp_lst)"
   ]
  },
  {
   "cell_type": "code",
   "execution_count": null,
   "metadata": {},
   "outputs": [],
   "source": [
    "LA_data = {}\n",
    "for i in out2[:11]:\n",
    "    if len(i[1]):\n",
    "        LA_data[i[0]] = i[1]\n",
    "for i in out3:\n",
    "    if len(i[1]):\n",
    "        LA_data[i[0]] = i[1]"
   ]
  },
  {
   "cell_type": "code",
   "execution_count": null,
   "metadata": {},
   "outputs": [],
   "source": [
    "# merge into a readable format\n",
    "import pandas as pd\n",
    "\n",
    "df = pd.DataFrame(LA_data['April 06, 2020'], columns= [\"city\", 'April 06, 2020'] )\n",
    "df.set_index([\"city\"])\n",
    "\n",
    "for key in LA_data.keys():\n",
    "    df2 = pd.DataFrame(LA_data[key], columns= [\"city\", key])\n",
    "    df2.set_index([\"city\"])\n",
    "    df = pd.merge(df, df2, how='left', left_on=\"city\", right_on=\"city\")\n",
    "\n"
   ]
  },
  {
   "cell_type": "markdown",
   "metadata": {},
   "source": [
    "After checking the merged dataset, some data was not properly merge since the city name format has been change since March 26, 2020. We need do minor fix on the dataset."
   ]
  },
  {
   "cell_type": "code",
   "execution_count": null,
   "metadata": {},
   "outputs": [],
   "source": [
    "df.drop([\"April 06, 2020_y\", \"March 26, 2020\", \"March 25, 2020\", \"March 24, 2020\", \"March 23, 2020\", \"March 22, 2020\"], axis=1, inplace=True)\n",
    "df"
   ]
  },
  {
   "cell_type": "code",
   "execution_count": null,
   "metadata": {},
   "outputs": [],
   "source": [
    "# helper function to fix city names\n",
    "def aka_name(city_name):\n",
    "    new_name = \"\"\n",
    "    if city_name[:7] == \"City of\":\n",
    "        new_name += city_name[-(len(city_name) - 8) : ]\n",
    "    elif city_name[:14] == 'Unincorporated':\n",
    "        new_name += city_name[-(len(city_name) - 17) : ]\n",
    "    elif city_name[:14] == 'Los Angeles - ':\n",
    "        new_name += city_name[-(len(city_name) - 14) : ]\n",
    "    else:\n",
    "        new_name += city_name\n",
    "    return new_name\n",
    "\n",
    "df[\"city2\"] = df[\"city\"].apply(lambda x: aka_name(x))"
   ]
  },
  {
   "cell_type": "code",
   "execution_count": 15,
   "metadata": {
    "ExecuteTime": {
     "end_time": "2020-04-07T16:16:48.901949Z",
     "start_time": "2020-04-07T16:16:48.735740Z"
    }
   },
   "outputs": [
    {
     "ename": "NameError",
     "evalue": "name 'LA_data' is not defined",
     "output_type": "error",
     "traceback": [
      "\u001b[0;31m---------------------------------------------------------------------------\u001b[0m",
      "\u001b[0;31mNameError\u001b[0m                                 Traceback (most recent call last)",
      "\u001b[0;32m<ipython-input-15-47afbf66a9cb>\u001b[0m in \u001b[0;36m<module>\u001b[0;34m\u001b[0m\n\u001b[1;32m      1\u001b[0m \u001b[0;31m# fix data for the first 5 day data\u001b[0m\u001b[0;34m\u001b[0m\u001b[0;34m\u001b[0m\u001b[0m\n\u001b[0;32m----> 2\u001b[0;31m \u001b[0mkey_list\u001b[0m \u001b[0;34m=\u001b[0m \u001b[0mlist\u001b[0m\u001b[0;34m(\u001b[0m\u001b[0mLA_data\u001b[0m\u001b[0;34m.\u001b[0m\u001b[0mkeys\u001b[0m\u001b[0;34m(\u001b[0m\u001b[0;34m)\u001b[0m\u001b[0;34m)\u001b[0m\u001b[0;34m[\u001b[0m\u001b[0;34m-\u001b[0m\u001b[0;36m5\u001b[0m \u001b[0;34m:\u001b[0m \u001b[0;34m]\u001b[0m\u001b[0;34m\u001b[0m\u001b[0m\n\u001b[0m\u001b[1;32m      3\u001b[0m \u001b[0;32mfor\u001b[0m \u001b[0mkey\u001b[0m \u001b[0;32min\u001b[0m \u001b[0mkey_list\u001b[0m\u001b[0;34m:\u001b[0m\u001b[0;34m\u001b[0m\u001b[0m\n\u001b[1;32m      4\u001b[0m     \u001b[0mdf2\u001b[0m \u001b[0;34m=\u001b[0m \u001b[0mpd\u001b[0m\u001b[0;34m.\u001b[0m\u001b[0mDataFrame\u001b[0m\u001b[0;34m(\u001b[0m\u001b[0mLA_data\u001b[0m\u001b[0;34m[\u001b[0m\u001b[0mkey\u001b[0m\u001b[0;34m]\u001b[0m\u001b[0;34m,\u001b[0m \u001b[0mcolumns\u001b[0m\u001b[0;34m=\u001b[0m \u001b[0;34m[\u001b[0m\u001b[0;34m\"city2\"\u001b[0m\u001b[0;34m,\u001b[0m \u001b[0mkey\u001b[0m\u001b[0;34m]\u001b[0m\u001b[0;34m)\u001b[0m\u001b[0;34m\u001b[0m\u001b[0m\n\u001b[1;32m      5\u001b[0m     \u001b[0mdf2\u001b[0m\u001b[0;34m[\u001b[0m\u001b[0;34m\"city2\"\u001b[0m\u001b[0;34m]\u001b[0m \u001b[0;34m=\u001b[0m \u001b[0mdf2\u001b[0m\u001b[0;34m[\u001b[0m\u001b[0;34m\"city2\"\u001b[0m\u001b[0;34m]\u001b[0m\u001b[0;34m.\u001b[0m\u001b[0mapply\u001b[0m\u001b[0;34m(\u001b[0m\u001b[0;32mlambda\u001b[0m \u001b[0mx\u001b[0m \u001b[0;34m:\u001b[0m \u001b[0mx\u001b[0m\u001b[0;34m.\u001b[0m\u001b[0mstrip\u001b[0m\u001b[0;34m(\u001b[0m\u001b[0;34m\".\"\u001b[0m\u001b[0;34m)\u001b[0m\u001b[0;34m)\u001b[0m\u001b[0;34m\u001b[0m\u001b[0m\n",
      "\u001b[0;31mNameError\u001b[0m: name 'LA_data' is not defined"
     ]
    }
   ],
   "source": [
    "# fix data for the first 5 day data\n",
    "key_list = list(LA_data.keys())[-5 : ]\n",
    "for key in key_list:\n",
    "    df2 = pd.DataFrame(LA_data[key], columns= [\"city2\", key])\n",
    "    df2[\"city2\"] = df2[\"city2\"].apply(lambda x : x.strip(\"*\"))\n",
    "    df2.set_index([\"city2\"])\n",
    "    df = pd.merge(df, df2, how='left', left_on=\"city2\", right_on=\"city2\")\n",
    "    \n"
   ]
  },
  {
   "cell_type": "code",
   "execution_count": null,
   "metadata": {},
   "outputs": [],
   "source": [
    "# making a csv backup\n",
    "df.to_csv(\"la_community_0406.csv\")"
   ]
  },
  {
   "cell_type": "markdown",
   "metadata": {},
   "source": [
    "Get korea data into Pandas"
   ]
  },
  {
   "cell_type": "code",
   "execution_count": 3,
   "metadata": {
    "ExecuteTime": {
     "end_time": "2020-04-07T17:09:30.983143Z",
     "start_time": "2020-04-07T17:09:30.974687Z"
    }
   },
   "outputs": [],
   "source": [
    "with open(\"./Data/Testing/South_Korea_History data.csv\", \"r\", newline=\"\") as f:\n",
    "    reader = csv.reader(f)\n",
    "    k_data = list(reader)"
   ]
  },
  {
   "cell_type": "code",
   "execution_count": 140,
   "metadata": {
    "ExecuteTime": {
     "end_time": "2020-04-07T18:19:07.048600Z",
     "start_time": "2020-04-07T18:19:07.035264Z"
    }
   },
   "outputs": [],
   "source": [
    "tmp_lst = list(i[2] for i in k_data)\n",
    "tmp_lst2 = []\n",
    "for item in tmp_lst:\n",
    "    tmp_lst3 = item.replace(', ', '').replace(\"'\", '').replace(\"]\", '').split(\"\\\\n\")[1:]\n",
    "    if tmp_lst3[0] not in [\"isolated\", \"Seoul\"]:\n",
    "        tmp_lst2.append(tmp_lst3)\n",
    "    \n",
    "for i in range(len(tmp_lst2)):\n",
    "    for j in range(len(tmp_lst2[i])):\n",
    "        tmp_lst2[i][j] = (tmp_lst2[i][j].replace(\"As of 0:00\", '').replace(\"As of 9:00\", '')\n",
    "                          .replace(\"As of 16:00\", '').replace(\"As of 09:00\", '')\n",
    "                          .replace(\"As of 00:00\", '').replace(\"As of 11:30\", '')\n",
    "                          .replace(\"As of 16:30\", '').replace(\"As of 11:00\", '')\n",
    "                         .replace(\".\",\"\").replace(\",\",\"\").strip(\",\").strip())\n",
    "                          \n",
    "    if len(tmp_lst2[i][0].strip()) == 0:\n",
    "        tmp_lst2[i] = tmp_lst2[i][1:]\n",
    "    if len(tmp_lst2[i][2].strip()) == 0:\n",
    "        tmp_lst2[i].remove(\"\")\n",
    "    if  \" (\" in tmp_lst2[i][0]:\n",
    "        tmp_lst2[i][0] = tmp_lst2[i][0][: tmp_lst2[i][0].find(\" (\")]\n",
    "\n",
    "## keep only one daily data\n",
    "tmp_lst4 = [tmp_lst2[0]]\n",
    "for i in range(1, len(tmp_lst2)):\n",
    "    if tmp_lst2[i][0] != tmp_lst2[i-1][0]:\n",
    "        tmp_lst4.append(tmp_lst2[i])\n",
    "\n",
    "df = pd.DataFrame(tmp_lst4)\n",
    "df.to_csv(\"k_data_0406_raw.csv\")"
   ]
  },
  {
   "cell_type": "markdown",
   "metadata": {
    "ExecuteTime": {
     "end_time": "2020-04-06T17:48:54.122487Z",
     "start_time": "2020-04-06T17:48:54.118833Z"
    }
   },
   "source": [
    "# Tuesday: Pineline, EDA and Visualization\n",
    "    -[ ] Data cleaning and get ready for Pandas\n",
    "    -[ ] Data screening and mark outlier\n",
    "    -[ ] create pineline to process data\n",
    "    -[ ] EDA on confirm case, death case, daily confirm case and testing data on Korean, CA, NY, US\n",
    "    -[ ] Visualization on community level"
   ]
  },
  {
   "cell_type": "code",
   "execution_count": null,
   "metadata": {},
   "outputs": [],
   "source": []
  },
  {
   "cell_type": "code",
   "execution_count": 91,
   "metadata": {
    "ExecuteTime": {
     "end_time": "2020-04-07T17:47:34.848846Z",
     "start_time": "2020-04-07T17:47:34.838170Z"
    }
   },
   "outputs": [],
   "source": [
    "# df = pd.read_csv(\"./Data/Testing/k_data_0406_raw.csv\")"
   ]
  },
  {
   "cell_type": "code",
   "execution_count": 141,
   "metadata": {
    "ExecuteTime": {
     "end_time": "2020-04-07T18:19:13.992210Z",
     "start_time": "2020-04-07T18:19:13.987914Z"
    }
   },
   "outputs": [],
   "source": [
    "df = pd.DataFrame(tmp_lst4)"
   ]
  },
  {
   "cell_type": "code",
   "execution_count": 142,
   "metadata": {
    "ExecuteTime": {
     "end_time": "2020-04-07T18:19:15.024038Z",
     "start_time": "2020-04-07T18:19:15.004494Z"
    },
    "scrolled": true
   },
   "outputs": [],
   "source": [
    "### drop record with different scale\n",
    "df.drop(index=[61,62,63], inplace=True)\n",
    "### fix mismatch record\n",
    "df = df.set_index(0)\n",
    "df2 = df.loc[\"12 March\":\"20 Feb\", 7:8]\n",
    "df2.rename(columns={7: 6, 8: 7}, inplace=True)\n",
    "df.loc[\"12 March\":\"20 Feb\", 6:7] = df2\n",
    "mismatch_date_lst = [\"13 Feb\", \"9 Feb\", \"8 Feb\", \"7 Feb\"]\n",
    "for date in mismatch_date_lst:\n",
    "    value_lst = df.loc[date, 2:6].tolist()\n",
    "    value_lst.insert(0, int(value_lst[0]) + int(value_lst[1]))\n",
    "    df.loc[date, 2:7] = value_lst\n",
    "df.loc[\"19 Feb\":\"7 Feb\", 5] = 0\n",
    "df.drop(8, axis=1, inplace=True)\n",
    "\n",
    "# convert to readable column name\n",
    "n_columns=[\"Total\",\"PCR_Confirmed\",\"PCR_Discharged\",\"PCR_Isolated\",\"PCR_Deceased\",\"Being_tested\",\"Tested_negative\"]\n",
    "col_dict = dict((i , n_columns[int(i)-1]) for i in df.columns)\n",
    "df.rename(col_dict, axis=1, inplace=True)\n",
    "df.to_csv(\"korea_data.csv\")"
   ]
  },
  {
   "cell_type": "markdown",
   "metadata": {},
   "source": [
    "**Let's go EDA**"
   ]
  },
  {
   "cell_type": "code",
   "execution_count": 192,
   "metadata": {
    "ExecuteTime": {
     "end_time": "2020-04-07T19:11:50.851037Z",
     "start_time": "2020-04-07T19:11:50.099970Z"
    }
   },
   "outputs": [],
   "source": [
    "import matplotlib.pyplot as plt\n",
    "import seaborn as sns"
   ]
  },
  {
   "cell_type": "code",
   "execution_count": 185,
   "metadata": {
    "ExecuteTime": {
     "end_time": "2020-04-07T19:08:34.346638Z",
     "start_time": "2020-04-07T19:08:34.339087Z"
    }
   },
   "outputs": [],
   "source": [
    "korea_data = pd.read_csv(\"./Data/Testing/korea_data.csv\")\n",
    "korea_data.rename({\"0\":\"Date\"}, axis=1, inplace=True)\n",
    "korea_data.set_index(\"Date\", inplace=True)"
   ]
  },
  {
   "cell_type": "code",
   "execution_count": 154,
   "metadata": {
    "ExecuteTime": {
     "end_time": "2020-04-07T18:46:14.731242Z",
     "start_time": "2020-04-07T18:46:14.724554Z"
    }
   },
   "outputs": [
    {
     "name": "stdout",
     "output_type": "stream",
     "text": [
      "<class 'pandas.core.frame.DataFrame'>\n",
      "Index: 61 entries, 5 April to 7 Feb\n",
      "Data columns (total 7 columns):\n",
      " #   Column           Non-Null Count  Dtype\n",
      "---  ------           --------------  -----\n",
      " 0   Total            61 non-null     int64\n",
      " 1   PCR_Confirmed    61 non-null     int64\n",
      " 2   PCR_Discharged   61 non-null     int64\n",
      " 3   PCR_Isolated     61 non-null     int64\n",
      " 4   PCR_Deceased     61 non-null     int64\n",
      " 5   Being_tested     61 non-null     int64\n",
      " 6   Tested_negative  61 non-null     int64\n",
      "dtypes: int64(7)\n",
      "memory usage: 3.8+ KB\n"
     ]
    }
   ],
   "source": [
    "korea_data.info()"
   ]
  },
  {
   "cell_type": "code",
   "execution_count": 155,
   "metadata": {
    "ExecuteTime": {
     "end_time": "2020-04-07T18:46:16.071874Z",
     "start_time": "2020-04-07T18:46:16.036398Z"
    }
   },
   "outputs": [
    {
     "data": {
      "text/html": [
       "<div>\n",
       "<style scoped>\n",
       "    .dataframe tbody tr th:only-of-type {\n",
       "        vertical-align: middle;\n",
       "    }\n",
       "\n",
       "    .dataframe tbody tr th {\n",
       "        vertical-align: top;\n",
       "    }\n",
       "\n",
       "    .dataframe thead th {\n",
       "        text-align: right;\n",
       "    }\n",
       "</style>\n",
       "<table border=\"1\" class=\"dataframe\">\n",
       "  <thead>\n",
       "    <tr style=\"text-align: right;\">\n",
       "      <th></th>\n",
       "      <th>Total</th>\n",
       "      <th>PCR_Confirmed</th>\n",
       "      <th>PCR_Discharged</th>\n",
       "      <th>PCR_Isolated</th>\n",
       "      <th>PCR_Deceased</th>\n",
       "      <th>Being_tested</th>\n",
       "      <th>Tested_negative</th>\n",
       "    </tr>\n",
       "  </thead>\n",
       "  <tbody>\n",
       "    <tr>\n",
       "      <th>count</th>\n",
       "      <td>61.000000</td>\n",
       "      <td>61.000000</td>\n",
       "      <td>61.000000</td>\n",
       "      <td>61.000000</td>\n",
       "      <td>61.000000</td>\n",
       "      <td>61.000000</td>\n",
       "      <td>61.000000</td>\n",
       "    </tr>\n",
       "    <tr>\n",
       "      <th>mean</th>\n",
       "      <td>181211.508197</td>\n",
       "      <td>5011.770492</td>\n",
       "      <td>1438.508197</td>\n",
       "      <td>3515.131148</td>\n",
       "      <td>58.147541</td>\n",
       "      <td>13702.409836</td>\n",
       "      <td>162497.327869</td>\n",
       "    </tr>\n",
       "    <tr>\n",
       "      <th>std</th>\n",
       "      <td>157557.586584</td>\n",
       "      <td>4034.454058</td>\n",
       "      <td>2110.402857</td>\n",
       "      <td>2783.392849</td>\n",
       "      <td>60.009954</td>\n",
       "      <td>9168.145709</td>\n",
       "      <td>149609.559899</td>\n",
       "    </tr>\n",
       "    <tr>\n",
       "      <th>min</th>\n",
       "      <td>1352.000000</td>\n",
       "      <td>24.000000</td>\n",
       "      <td>16.000000</td>\n",
       "      <td>2.000000</td>\n",
       "      <td>0.000000</td>\n",
       "      <td>327.000000</td>\n",
       "      <td>1001.000000</td>\n",
       "    </tr>\n",
       "    <tr>\n",
       "      <th>25%</th>\n",
       "      <td>19621.000000</td>\n",
       "      <td>346.000000</td>\n",
       "      <td>22.000000</td>\n",
       "      <td>327.000000</td>\n",
       "      <td>2.000000</td>\n",
       "      <td>5481.000000</td>\n",
       "      <td>13794.000000</td>\n",
       "    </tr>\n",
       "    <tr>\n",
       "      <th>50%</th>\n",
       "      <td>164740.000000</td>\n",
       "      <td>6284.000000</td>\n",
       "      <td>108.000000</td>\n",
       "      <td>4155.000000</td>\n",
       "      <td>42.000000</td>\n",
       "      <td>15525.000000</td>\n",
       "      <td>136624.000000</td>\n",
       "    </tr>\n",
       "    <tr>\n",
       "      <th>75%</th>\n",
       "      <td>327509.000000</td>\n",
       "      <td>8799.000000</td>\n",
       "      <td>2612.000000</td>\n",
       "      <td>6085.000000</td>\n",
       "      <td>102.000000</td>\n",
       "      <td>18452.000000</td>\n",
       "      <td>303006.000000</td>\n",
       "    </tr>\n",
       "    <tr>\n",
       "      <th>max</th>\n",
       "      <td>461233.000000</td>\n",
       "      <td>10237.000000</td>\n",
       "      <td>6463.000000</td>\n",
       "      <td>7470.000000</td>\n",
       "      <td>183.000000</td>\n",
       "      <td>35555.000000</td>\n",
       "      <td>431425.000000</td>\n",
       "    </tr>\n",
       "  </tbody>\n",
       "</table>\n",
       "</div>"
      ],
      "text/plain": [
       "               Total  PCR_Confirmed  PCR_Discharged  PCR_Isolated  \\\n",
       "count      61.000000      61.000000       61.000000     61.000000   \n",
       "mean   181211.508197    5011.770492     1438.508197   3515.131148   \n",
       "std    157557.586584    4034.454058     2110.402857   2783.392849   \n",
       "min      1352.000000      24.000000       16.000000      2.000000   \n",
       "25%     19621.000000     346.000000       22.000000    327.000000   \n",
       "50%    164740.000000    6284.000000      108.000000   4155.000000   \n",
       "75%    327509.000000    8799.000000     2612.000000   6085.000000   \n",
       "max    461233.000000   10237.000000     6463.000000   7470.000000   \n",
       "\n",
       "       PCR_Deceased  Being_tested  Tested_negative  \n",
       "count     61.000000     61.000000        61.000000  \n",
       "mean      58.147541  13702.409836    162497.327869  \n",
       "std       60.009954   9168.145709    149609.559899  \n",
       "min        0.000000    327.000000      1001.000000  \n",
       "25%        2.000000   5481.000000     13794.000000  \n",
       "50%       42.000000  15525.000000    136624.000000  \n",
       "75%      102.000000  18452.000000    303006.000000  \n",
       "max      183.000000  35555.000000    431425.000000  "
      ]
     },
     "execution_count": 155,
     "metadata": {},
     "output_type": "execute_result"
    }
   ],
   "source": [
    "korea_data.describe()"
   ]
  },
  {
   "cell_type": "markdown",
   "metadata": {},
   "source": [
    "Since columns in table are in different time scale, the [Being_tested] is on a short term scale while others are in accumulated scale. Hence, we transform data into daily scale."
   ]
  },
  {
   "cell_type": "code",
   "execution_count": 186,
   "metadata": {
    "ExecuteTime": {
     "end_time": "2020-04-07T19:08:37.887069Z",
     "start_time": "2020-04-07T19:08:37.876347Z"
    }
   },
   "outputs": [],
   "source": [
    "korea_data[\"new_positive\"] = korea_data[\"PCR_Confirmed\"] - korea_data[\"PCR_Confirmed\"].shift(-1)\n",
    "korea_data[\"new_negative\"] = korea_data[\"Tested_negative\"] - korea_data[\"Tested_negative\"].shift(-1)\n",
    "korea_data[\"new_testing\"] = korea_data[\"new_positive\"] + korea_data[\"new_negative\"]\n",
    "korea_data[\"positive_rate\"] = korea_data[\"new_positive\"] / korea_data[\"new_testing\"]"
   ]
  },
  {
   "cell_type": "code",
   "execution_count": 197,
   "metadata": {
    "ExecuteTime": {
     "end_time": "2020-04-07T19:20:53.604452Z",
     "start_time": "2020-04-07T19:20:53.036170Z"
    }
   },
   "outputs": [
    {
     "data": {
      "text/plain": [
       "array([[<matplotlib.axes._subplots.AxesSubplot object at 0x7ff2aadea320>,\n",
       "        <matplotlib.axes._subplots.AxesSubplot object at 0x7ff2aadb1e80>],\n",
       "       [<matplotlib.axes._subplots.AxesSubplot object at 0x7ff2aad5de10>,\n",
       "        <matplotlib.axes._subplots.AxesSubplot object at 0x7ff2aac0c898>]],\n",
       "      dtype=object)"
      ]
     },
     "execution_count": 197,
     "metadata": {},
     "output_type": "execute_result"
    },
    {
     "data": {
      "image/png": "[encoded data removed]",
      "text/plain": [
       "<Figure size 864x864 with 4 Axes>"
      ]
     },
     "metadata": {
      "needs_background": "light"
     },
     "output_type": "display_data"
    }
   ],
   "source": [
    "k_daily = korea_data.loc[:,\"new_positive\":]\n",
    "k_daily.drop(\"7 Feb\", inplace=True)\n",
    "k_daily.hist(figsize = (12,12))"
   ]
  },
  {
   "cell_type": "code",
   "execution_count": 194,
   "metadata": {
    "ExecuteTime": {
     "end_time": "2020-04-07T19:13:52.654547Z",
     "start_time": "2020-04-07T19:13:49.562846Z"
    }
   },
   "outputs": [
    {
     "data": {
      "text/plain": [
       "<seaborn.axisgrid.PairGrid at 0x7ff2b298a1d0>"
      ]
     },
     "execution_count": 194,
     "metadata": {},
     "output_type": "execute_result"
    },
    {
     "data": {
      "image/png": "[encoded data removed]",
      "text/plain": [
       "<Figure size 720x720 with 20 Axes>"
      ]
     },
     "metadata": {
      "needs_background": "light"
     },
     "output_type": "display_data"
    }
   ],
   "source": [
    "sns.pairplot(k_daily)"
   ]
  },
  {
   "cell_type": "code",
   "execution_count": 204,
   "metadata": {
    "ExecuteTime": {
     "end_time": "2020-04-07T19:30:57.388960Z",
     "start_time": "2020-04-07T19:30:56.804280Z"
    }
   },
   "outputs": [
    {
     "data": {
      "text/plain": [
       "[<matplotlib.lines.Line2D at 0x7ff2aa3561d0>]"
      ]
     },
     "execution_count": 204,
     "metadata": {},
     "output_type": "execute_result"
    },
    {
     "data": {
      "image/png": "[encoded data removed]",
      "text/plain": [
       "<Figure size 1296x432 with 2 Axes>"
      ]
     },
     "metadata": {
      "needs_background": "light"
     },
     "output_type": "display_data"
    }
   ],
   "source": [
    "fig, ax = plt.subplots(figsize= (18,6))\n",
    "\n",
    "# plt.xticks(k_daily['new_positive'], k_daily.index.values ) # location, labels\n",
    "ax.plot(k_daily['positive_rate'],color = \"blue\")\n",
    "ax2 = ax.twinx()\n",
    "ax2.plot(k_daily['new_testing'],color = \"black\" )\n"
   ]
  },
  {
   "cell_type": "code",
   "execution_count": null,
   "metadata": {},
   "outputs": [],
   "source": []
  }
 ],
 "metadata": {
  "kernelspec": {
   "display_name": "Python 3",
   "language": "python",
   "name": "python3"
  },
  "language_info": {
   "codemirror_mode": {
    "name": "ipython",
    "version": 3
   },
   "file_extension": ".py",
   "mimetype": "text/x-python",
   "name": "python",
   "nbconvert_exporter": "python",
   "pygments_lexer": "ipython3",
   "version": "3.6.5"
  },
  "toc": {
   "base_numbering": 1,
   "nav_menu": {},
   "number_sections": true,
   "sideBar": true,
   "skip_h1_title": false,
   "title_cell": "Table of Contents",
   "title_sidebar": "Contents",
   "toc_cell": false,
   "toc_position": {},
   "toc_section_display": true,
   "toc_window_display": false
  },
  "varInspector": {
   "cols": {
    "lenName": 16,
    "lenType": 16,
    "lenVar": 40
   },
   "kernels_config": {
    "python": {
     "delete_cmd_postfix": "",
     "delete_cmd_prefix": "del ",
     "library": "var_list.py",
     "varRefreshCmd": "print(var_dic_list())"
    },
    "r": {
     "delete_cmd_postfix": ") ",
     "delete_cmd_prefix": "rm(",
     "library": "var_list.r",
     "varRefreshCmd": "cat(var_dic_list()) "
    }
   },
   "types_to_exclude": [
    "module",
    "function",
    "builtin_function_or_method",
    "instance",
    "_Feature"
   ],
   "window_display": false
  }
 },
 "nbformat": 4,
 "nbformat_minor": 4
}
